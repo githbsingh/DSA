{
  "nbformat": 4,
  "nbformat_minor": 0,
  "metadata": {
    "colab": {
      "provenance": [],
      "authorship_tag": "ABX9TyPDup+uV+lMH1dD5t0Y/d8E",
      "include_colab_link": true
    },
    "kernelspec": {
      "name": "python3",
      "display_name": "Python 3"
    },
    "language_info": {
      "name": "python"
    }
  },
  "cells": [
    {
      "cell_type": "markdown",
      "metadata": {
        "id": "view-in-github",
        "colab_type": "text"
      },
      "source": [
        "<a href=\"https://colab.research.google.com/github/githbsingh/DSA/blob/main/Singly_linked_list.ipynb\" target=\"_parent\"><img src=\"https://colab.research.google.com/assets/colab-badge.svg\" alt=\"Open In Colab\"/></a>"
      ]
    },
    {
      "cell_type": "code",
      "execution_count": 11,
      "metadata": {
        "id": "NLTtLvi5IiOd",
        "colab": {
          "base_uri": "https://localhost:8080/"
        },
        "outputId": "72a193b6-e6fc-45af-c6b6-4a8b6e8961d7"
      },
      "outputs": [
        {
          "output_type": "stream",
          "name": "stdout",
          "text": [
            "inside not self.head\n",
            "None\n",
            "<__main__.Node object at 0x7858e0812b90>\n",
            "10 -> 20 -> 30 -> None\n"
          ]
        }
      ],
      "source": [
        "# Node class\n",
        "class Node:\n",
        "    def __init__(self, data):\n",
        "        self.data = data\n",
        "        self.next = None\n",
        "\n",
        "# Singly Linked List class\n",
        "class SinglyLinkedList:\n",
        "    def __init__(self):\n",
        "        self.head = None\n",
        "\n",
        "    def insert_at_end(self,data):\n",
        "        new_node = Node(data)\n",
        "        if not self.head:\n",
        "            print(\"inside not self.head\")\n",
        "            self.head = new_node\n",
        "            return\n",
        "        current = self.head\n",
        "        while current.next:\n",
        "            current = current.next\n",
        "        current.next = new_node\n",
        "\n",
        "    def display(self):\n",
        "        current = self.head\n",
        "        while current:\n",
        "            print(current.data, end=\" -> \")\n",
        "            current = current.next\n",
        "        print(\"None\")\n",
        "# Usage\n",
        "sll = SinglyLinkedList()\n",
        "sll.insert_at_end(10)\n",
        "sll.insert_at_end(20)\n",
        "sll.insert_at_end(30)\n",
        "sll.display()\n",
        "\n",
        "\n",
        "\n"
      ]
    },
    {
      "cell_type": "code",
      "source": [],
      "metadata": {
        "colab": {
          "base_uri": "https://localhost:8080/"
        },
        "id": "nx8K-MG4u0fX",
        "outputId": "313d9c03-36b6-4886-efa8-24cd60607b9a"
      },
      "execution_count": 9,
      "outputs": [
        {
          "output_type": "stream",
          "name": "stdout",
          "text": [
            "10 → 20 → 30 → None\n"
          ]
        }
      ]
    }
  ]
}