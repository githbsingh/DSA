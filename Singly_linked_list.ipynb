{
  "nbformat": 4,
  "nbformat_minor": 0,
  "metadata": {
    "colab": {
      "provenance": [],
      "authorship_tag": "ABX9TyPdQHJZbo4nkqyouP269TOZ",
      "include_colab_link": true
    },
    "kernelspec": {
      "name": "python3",
      "display_name": "Python 3"
    },
    "language_info": {
      "name": "python"
    }
  },
  "cells": [
    {
      "cell_type": "markdown",
      "metadata": {
        "id": "view-in-github",
        "colab_type": "text"
      },
      "source": [
        "<a href=\"https://colab.research.google.com/github/githbsingh/DSA/blob/main/Singly_linked_list.ipynb\" target=\"_parent\"><img src=\"https://colab.research.google.com/assets/colab-badge.svg\" alt=\"Open In Colab\"/></a>"
      ]
    },
    {
      "cell_type": "code",
      "execution_count": 2,
      "metadata": {
        "id": "NLTtLvi5IiOd",
        "colab": {
          "base_uri": "https://localhost:8080/"
        },
        "outputId": "f7566bbd-ce9e-4a67-c5ce-d827ac38739f"
      },
      "outputs": [
        {
          "output_type": "stream",
          "name": "stdout",
          "text": [
            "inside not self.head\n",
            "10 -> 20 -> 30 -> None\n",
            "30 -> 20 -> 10 -> "
          ]
        }
      ],
      "source": [
        "# Node class\n",
        "class Node:\n",
        "    def __init__(self, data):\n",
        "        self.data = data\n",
        "        self.next = None\n",
        "\n",
        "# Singly Linked List class\n",
        "class SinglyLinkedList:\n",
        "    def __init__(self):\n",
        "        self.head = None\n",
        "\n",
        "    def insert_at_end(self,data):\n",
        "        new_node = Node(data)\n",
        "        if not self.head:\n",
        "            print(\"inside not self.head\")\n",
        "            self.head = new_node\n",
        "            return\n",
        "        current = self.head\n",
        "        while current.next:\n",
        "            current = current.next\n",
        "        current.next = new_node\n",
        "\n",
        "    def display(self):\n",
        "        current = self.head\n",
        "        while current:\n",
        "            print(current.data, end=\" -> \")\n",
        "            current = current.next\n",
        "        print(\"None\")\n",
        "\n",
        "    def print_reverse(self, node):\n",
        "        if node is None:\n",
        "            return\n",
        "        self.print_reverse(node.next)\n",
        "        print(node.data, end=\" -> \")\n",
        "# Usage\n",
        "sll = SinglyLinkedList()\n",
        "sll.insert_at_end(10)\n",
        "sll.insert_at_end(20)\n",
        "sll.insert_at_end(30)\n",
        "sll.display()\n",
        "\n",
        "sll.print_reverse(sll.head)\n",
        "\n",
        "\n",
        "\n"
      ]
    },
    {
      "cell_type": "markdown",
      "source": [
        "#### Doubly Linked List"
      ],
      "metadata": {
        "id": "lk4z9FN6vICv"
      }
    },
    {
      "cell_type": "code",
      "source": [
        "class Node:\n",
        "    def __init__(self, data):\n",
        "        self.data = data\n",
        "        self.prev = None\n",
        "        self.next = None\n",
        "\n",
        "class DoublyLinkedList:\n",
        "    def __init__(self):\n",
        "        self.head = None\n",
        "\n",
        "    def insert_at_end(self, data):\n",
        "        new_node = Node(data)\n",
        "        if not self.head:\n",
        "            self.head = new_node\n",
        "            return\n",
        "        current = self.head\n",
        "        while current.next:\n",
        "            current = current.next\n",
        "        current.next = new_node\n",
        "        new_node.prev = current\n",
        "\n",
        "    def display(self):\n",
        "        current = self.head\n",
        "        while current.next:\n",
        "            print(current.data, end=\" <-> \")\n",
        "            current = current.next\n",
        "        print(current.data)\n",
        "\n",
        "\n",
        "# Usage\n",
        "dll = DoublyLinkedList()\n",
        "dll.insert_at_end(10)\n",
        "dll.insert_at_end(20)\n",
        "dll.insert_at_end(30)\n",
        "dll.display()\n",
        "\n"
      ],
      "metadata": {
        "colab": {
          "base_uri": "https://localhost:8080/"
        },
        "id": "nx8K-MG4u0fX",
        "outputId": "5f99427d-5d59-42f7-e73a-f7924b6e6dd7"
      },
      "execution_count": null,
      "outputs": [
        {
          "output_type": "stream",
          "name": "stdout",
          "text": [
            "10 <-> 20 <-> 30\n"
          ]
        }
      ]
    },
    {
      "cell_type": "markdown",
      "source": [
        "#### Reverse LinkedList\n"
      ],
      "metadata": {
        "id": "oLQ489waIaBV"
      }
    },
    {
      "cell_type": "code",
      "source": [
        "from typing import Optional # Import Optional and List from the typing module\n",
        "\n",
        "class ListNode:\n",
        "    def __init__(self, val=0, next=None):\n",
        "        self.val = val\n",
        "        self.next = next\n",
        "\n",
        "class Solution:\n",
        "    def reverseList(self, head: Optional[ListNode]) -> Optional[ListNode]:\n",
        "\n",
        "        if head is None:\n",
        "            return None\n",
        "        prev = None\n",
        "        current = head\n",
        "        while current:\n",
        "            #print(current.val)\n",
        "            next_node = current.next\n",
        "            current.next = prev\n",
        "            prev = current\n",
        "            current = next_node\n",
        "        return prev"
      ],
      "metadata": {
        "id": "_6LSksqeIZOp"
      },
      "execution_count": 4,
      "outputs": []
    }
  ]
}