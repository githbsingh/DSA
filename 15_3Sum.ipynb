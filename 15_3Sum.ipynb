{
  "nbformat": 4,
  "nbformat_minor": 0,
  "metadata": {
    "colab": {
      "provenance": [],
      "authorship_tag": "ABX9TyMhJP3JHQle6SnL/nb1HBqX",
      "include_colab_link": true
    },
    "kernelspec": {
      "name": "python3",
      "display_name": "Python 3"
    },
    "language_info": {
      "name": "python"
    }
  },
  "cells": [
    {
      "cell_type": "markdown",
      "metadata": {
        "id": "view-in-github",
        "colab_type": "text"
      },
      "source": [
        "<a href=\"https://colab.research.google.com/github/githbsingh/DSA/blob/main/15_3Sum.ipynb\" target=\"_parent\"><img src=\"https://colab.research.google.com/assets/colab-badge.svg\" alt=\"Open In Colab\"/></a>"
      ]
    },
    {
      "cell_type": "code",
      "execution_count": null,
      "metadata": {
        "id": "rVXNV53VbBzy"
      },
      "outputs": [],
      "source": [
        "def threeSum(self, nums: List[int]) -> List[List[int]]:\n",
        "        target = 0\n",
        "        size = len(nums)\n",
        "        hashmap = {}\n",
        "        output = []\n",
        "        for i in range(len(nums)):\n",
        "            first = nums[i]\n",
        "            hashmap = {}\n",
        "            for j in range(i+1, len(nums)):\n",
        "                target = 0 - first\n",
        "                complement = target - nums[j]\n",
        "                if complement in hashmap:\n",
        "                     a = min(first, complement, nums[j]), first+complement+nums[j] -  min(first, complement, nums[j]) -  max(first, complement, nums[j]),  max(first, complement, nums[j])\n",
        "                     #a = set(a)\n",
        "                     output.append(a)\n",
        "                     output = [list(t) for t in set(tuple(x) for x in output)]\n",
        "\n",
        "                else:\n",
        "                    hashmap[nums[j]] = j\n",
        "        return output"
      ]
    }
  ]
}