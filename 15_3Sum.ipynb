{
  "nbformat": 4,
  "nbformat_minor": 0,
  "metadata": {
    "colab": {
      "provenance": [],
      "authorship_tag": "ABX9TyMP79oN8aEsWk5v3HpWbjy6",
      "include_colab_link": true
    },
    "kernelspec": {
      "name": "python3",
      "display_name": "Python 3"
    },
    "language_info": {
      "name": "python"
    }
  },
  "cells": [
    {
      "cell_type": "markdown",
      "metadata": {
        "id": "view-in-github",
        "colab_type": "text"
      },
      "source": [
        "<a href=\"https://colab.research.google.com/github/githbsingh/DSA/blob/main/15_3Sum.ipynb\" target=\"_parent\"><img src=\"https://colab.research.google.com/assets/colab-badge.svg\" alt=\"Open In Colab\"/></a>"
      ]
    },
    {
      "cell_type": "code",
      "execution_count": 1,
      "metadata": {
        "colab": {
          "base_uri": "https://localhost:8080/"
        },
        "id": "gv-1sLGCmQ_w",
        "outputId": "a9cf48bf-43a7-4613-c957-c43d2be9290e"
      },
      "outputs": [
        {
          "output_type": "stream",
          "name": "stdout",
          "text": [
            "[0, 1]\n"
          ]
        }
      ],
      "source": [
        "class Solution:\n",
        "    def threeSum(self, nums: List[int]) -> List[List[int]]:\n",
        "        target = 0\n",
        "        size = len(nums)\n",
        "        output = []\n",
        "        #nums = nums.sort()\n",
        "        #print(nums)\n",
        "        for i in range(size):\n",
        "            a = []\n",
        "            for j in range(i+1, size):\n",
        "                for k in range(j+1,size):\n",
        "                    if i != j and i !=k and j !=k:\n",
        "                        if nums[i] + nums[j] + nums[k] == target:\n",
        "                            a = [nums[i], nums[j], nums[k]]\n",
        "                            #print(set(a))\n",
        "                            output.append(a)\n",
        "                            output = list(set(tuple(sorted(t)) for t in output))\n",
        "\n",
        "        return output"
      ]
    },
    {
      "cell_type": "code",
      "source": [],
      "metadata": {
        "id": "FrUFMJQGpg2K"
      },
      "execution_count": null,
      "outputs": []
    }
  ]
}