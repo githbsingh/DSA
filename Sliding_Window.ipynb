{
  "nbformat": 4,
  "nbformat_minor": 0,
  "metadata": {
    "colab": {
      "provenance": [],
      "authorship_tag": "ABX9TyO0ve7eJqhCZUEhemrLEXEa",
      "include_colab_link": true
    },
    "kernelspec": {
      "name": "python3",
      "display_name": "Python 3"
    },
    "language_info": {
      "name": "python"
    }
  },
  "cells": [
    {
      "cell_type": "markdown",
      "metadata": {
        "id": "view-in-github",
        "colab_type": "text"
      },
      "source": [
        "<a href=\"https://colab.research.google.com/github/githbsingh/DSA/blob/main/Sliding_Window.ipynb\" target=\"_parent\"><img src=\"https://colab.research.google.com/assets/colab-badge.svg\" alt=\"Open In Colab\"/></a>"
      ]
    },
    {
      "cell_type": "markdown",
      "source": [
        "#### Sliding Window Algorithm"
      ],
      "metadata": {
        "id": "McH9PLp1k763"
      }
    },
    {
      "cell_type": "code",
      "execution_count": null,
      "metadata": {
        "colab": {
          "base_uri": "https://localhost:8080/"
        },
        "id": "tC_s2X8mb6vA",
        "outputId": "e0d1344b-195b-4a88-cd9b-eec87d51c94f"
      },
      "outputs": [
        {
          "output_type": "stream",
          "name": "stdout",
          "text": [
            "3\n"
          ]
        },
        {
          "output_type": "execute_result",
          "data": {
            "text/plain": [
              "42"
            ]
          },
          "metadata": {},
          "execution_count": 4
        }
      ],
      "source": [
        "arr = [1, 3, 2, 6, 2, 8, 1, 5, 9, 3, 2, 4, 1]\n",
        "print(arr[9])\n",
        "\n",
        "def max_subarray_sum(arr, k=10):\n",
        "    max_sum = current_sum = sum(arr[:10])\n",
        "\n",
        "    for i in range(10, len(arr)):\n",
        "        current_sum += arr[i] - arr[i - 10]\n",
        "        max_sum = max(max_sum, current_sum)\n",
        "\n",
        "    return max_sum\n",
        "\n",
        "max_subarray_sum(arr)"
      ]
    },
    {
      "cell_type": "markdown",
      "source": [
        "###### Two Pointer's Algorithm"
      ],
      "metadata": {
        "id": "9D19Yuzek0g1"
      }
    },
    {
      "cell_type": "code",
      "source": [
        "def find_pair_with_sum(arr, target):\n",
        "    left, right = 0, len(arr) - 1\n",
        "    print(left, right)\n",
        "\n",
        "    while left < right:\n",
        "        current_sum = arr[left] + arr[right]\n",
        "\n",
        "        if current_sum == target:\n",
        "            return (arr[left], arr[right])\n",
        "        elif current_sum < target:\n",
        "            left += 1\n",
        "        else:\n",
        "            right -= 1\n",
        "\n",
        "    return None\n",
        "\n",
        "ages = [18, 21, 25, 28, 30, 32, 35, 40]\n",
        "target = 50\n",
        "\n",
        "result = find_pair_with_sum(ages, target)\n",
        "print(result)\n"
      ],
      "metadata": {
        "colab": {
          "base_uri": "https://localhost:8080/"
        },
        "id": "wEhTsJAlcnO5",
        "outputId": "a0089f12-3602-4e4c-8909-8921d9693bff"
      },
      "execution_count": null,
      "outputs": [
        {
          "output_type": "stream",
          "name": "stdout",
          "text": [
            "0 7\n",
            "(18, 32)\n"
          ]
        }
      ]
    },
    {
      "cell_type": "code",
      "source": [
        "def length_of_longest_substring(s):\n",
        "    char_index = {}  # stores last seen index\n",
        "    left = 0\n",
        "    max_len = 0\n",
        "\n",
        "    for right in range(len(s)):\n",
        "        if s[right] in char_index and char_index[s[right]] >= left:\n",
        "            left = char_index[s[right]] + 1  # move left pointer\n",
        "\n",
        "        char_index[s[right]] = right  # update last seen\n",
        "        print(char_index)\n",
        "        max_len = max(max_len, right - left + 1)\n",
        "\n",
        "    return max_len\n",
        "\n",
        "\n",
        "s = \"abcabcbb\"\n",
        "length_of_longest_substring(s)"
      ],
      "metadata": {
        "colab": {
          "base_uri": "https://localhost:8080/"
        },
        "id": "fFqoz1hvkr2N",
        "outputId": "0031f151-ea74-41df-a53e-2549b3804bb3"
      },
      "execution_count": 1,
      "outputs": [
        {
          "output_type": "stream",
          "name": "stdout",
          "text": [
            "{'a': 0}\n",
            "{'a': 0, 'b': 1}\n",
            "{'a': 0, 'b': 1, 'c': 2}\n",
            "{'a': 3, 'b': 1, 'c': 2}\n",
            "{'a': 3, 'b': 4, 'c': 2}\n",
            "{'a': 3, 'b': 4, 'c': 5}\n",
            "{'a': 3, 'b': 6, 'c': 5}\n",
            "{'a': 3, 'b': 7, 'c': 5}\n"
          ]
        },
        {
          "output_type": "execute_result",
          "data": {
            "text/plain": [
              "3"
            ]
          },
          "metadata": {},
          "execution_count": 1
        }
      ]
    },
    {
      "cell_type": "markdown",
      "source": [],
      "metadata": {
        "id": "-0NowzKUG2rL"
      }
    },
    {
      "cell_type": "markdown",
      "source": [
        "#### Longest Substring Without Repeating Characters"
      ],
      "metadata": {
        "id": "eZU72m-2G5hN"
      }
    },
    {
      "cell_type": "code",
      "source": [
        "class Solution:\n",
        "    def lengthOfLongestSubstring(self, s: str) -> int:\n",
        "        left = 0\n",
        "        charIndex = {}\n",
        "        max_len = 0\n",
        "\n",
        "        for right in range(len(s)):\n",
        "            # For repeatation of characters slide window\n",
        "            if s[right] in charIndex and charIndex[s[right]] >= left:\n",
        "                left = charIndex[s[right]] + 1\n",
        "\n",
        "            #Insert the new element into the charIndex dictionary\n",
        "            charIndex[s[right]] = right\n",
        "            max_len = max(max_len, right - left + 1)\n",
        "\n",
        "        return max_len\n",
        "\n",
        "s = \"abcabcbb\"\n",
        "solution = Solution()\n",
        "solution.lengthOfLongestSubstring(s)"
      ],
      "metadata": {
        "colab": {
          "base_uri": "https://localhost:8080/"
        },
        "id": "sEioFWNLGqgt",
        "outputId": "eb784280-fe34-4506-9069-50a25d9d308c"
      },
      "execution_count": 2,
      "outputs": [
        {
          "output_type": "execute_result",
          "data": {
            "text/plain": [
              "3"
            ]
          },
          "metadata": {},
          "execution_count": 2
        }
      ]
    }
  ]
}