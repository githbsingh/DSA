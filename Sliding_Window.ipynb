{
  "nbformat": 4,
  "nbformat_minor": 0,
  "metadata": {
    "colab": {
      "provenance": [],
      "authorship_tag": "ABX9TyNHQ0dG5Xxvw/SydLautg8e",
      "include_colab_link": true
    },
    "kernelspec": {
      "name": "python3",
      "display_name": "Python 3"
    },
    "language_info": {
      "name": "python"
    }
  },
  "cells": [
    {
      "cell_type": "markdown",
      "metadata": {
        "id": "view-in-github",
        "colab_type": "text"
      },
      "source": [
        "<a href=\"https://colab.research.google.com/github/githbsingh/DSA/blob/main/Sliding_Window.ipynb\" target=\"_parent\"><img src=\"https://colab.research.google.com/assets/colab-badge.svg\" alt=\"Open In Colab\"/></a>"
      ]
    },
    {
      "cell_type": "markdown",
      "source": [
        "#### Sliding Window Algorithm"
      ],
      "metadata": {
        "id": "McH9PLp1k763"
      }
    },
    {
      "cell_type": "code",
      "execution_count": 4,
      "metadata": {
        "colab": {
          "base_uri": "https://localhost:8080/"
        },
        "id": "tC_s2X8mb6vA",
        "outputId": "e0d1344b-195b-4a88-cd9b-eec87d51c94f"
      },
      "outputs": [
        {
          "output_type": "stream",
          "name": "stdout",
          "text": [
            "3\n"
          ]
        },
        {
          "output_type": "execute_result",
          "data": {
            "text/plain": [
              "42"
            ]
          },
          "metadata": {},
          "execution_count": 4
        }
      ],
      "source": [
        "arr = [1, 3, 2, 6, 2, 8, 1, 5, 9, 3, 2, 4, 1]\n",
        "print(arr[9])\n",
        "\n",
        "def max_subarray_sum(arr, k=10):\n",
        "    max_sum = current_sum = sum(arr[:10])\n",
        "\n",
        "    for i in range(10, len(arr)):\n",
        "        current_sum += arr[i] - arr[i - 10]\n",
        "        max_sum = max(max_sum, current_sum)\n",
        "\n",
        "    return max_sum\n",
        "\n",
        "max_subarray_sum(arr)"
      ]
    },
    {
      "cell_type": "markdown",
      "source": [
        "###### Two Pointer's Algorithm"
      ],
      "metadata": {
        "id": "9D19Yuzek0g1"
      }
    },
    {
      "cell_type": "code",
      "source": [
        "def find_pair_with_sum(arr, target):\n",
        "    left, right = 0, len(arr) - 1\n",
        "    print(left, right)\n",
        "\n",
        "    while left < right:\n",
        "        current_sum = arr[left] + arr[right]\n",
        "\n",
        "        if current_sum == target:\n",
        "            return (arr[left], arr[right])\n",
        "        elif current_sum < target:\n",
        "            left += 1\n",
        "        else:\n",
        "            right -= 1\n",
        "\n",
        "    return None\n",
        "\n",
        "ages = [18, 21, 25, 28, 30, 32, 35, 40]\n",
        "target = 50\n",
        "\n",
        "result = find_pair_with_sum(ages, target)\n",
        "print(result)\n"
      ],
      "metadata": {
        "colab": {
          "base_uri": "https://localhost:8080/"
        },
        "id": "wEhTsJAlcnO5",
        "outputId": "a0089f12-3602-4e4c-8909-8921d9693bff"
      },
      "execution_count": 7,
      "outputs": [
        {
          "output_type": "stream",
          "name": "stdout",
          "text": [
            "0 7\n",
            "(18, 32)\n"
          ]
        }
      ]
    }
  ]
}