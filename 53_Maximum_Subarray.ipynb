{
  "nbformat": 4,
  "nbformat_minor": 0,
  "metadata": {
    "colab": {
      "provenance": [],
      "authorship_tag": "ABX9TyNtfU/ZkrnChKrZXzdXiP9V",
      "include_colab_link": true
    },
    "kernelspec": {
      "name": "python3",
      "display_name": "Python 3"
    },
    "language_info": {
      "name": "python"
    }
  },
  "cells": [
    {
      "cell_type": "markdown",
      "metadata": {
        "id": "view-in-github",
        "colab_type": "text"
      },
      "source": [
        "<a href=\"https://colab.research.google.com/github/githbsingh/DSA/blob/main/53_Maximum_Subarray.ipynb\" target=\"_parent\"><img src=\"https://colab.research.google.com/assets/colab-badge.svg\" alt=\"Open In Colab\"/></a>"
      ]
    },
    {
      "cell_type": "code",
      "source": [
        "class Solution:\n",
        "    def maxSubArray(self, nums: List[int]) -> int:\n",
        "        # Using Kadane’s Algorithm\n",
        "        max_sum = float('-inf')  # Initialize to the smallest possible value\n",
        "        current_sum = 0\n",
        "\n",
        "        for num in nums:\n",
        "            current_sum = max(num, current_sum + num)  # Extend or restart the subarray\n",
        "            max_sum = max(max_sum, current_sum)  # Update the maximum sum\n",
        "\n",
        "        return max_sum"
      ],
      "metadata": {
        "id": "Vb8MRV3IENGO"
      },
      "execution_count": null,
      "outputs": []
    },
    {
      "cell_type": "code",
      "execution_count": null,
      "metadata": {
        "id": "DT7vsdabEJyn"
      },
      "outputs": [],
      "source": [
        "class Solution:\n",
        "    def maxSubArray(self, nums: List[int]) -> int:\n",
        "        size = len(nums)\n",
        "        max = -10**18\n",
        "        i = 0\n",
        "        j = 0\n",
        "        k = 0\n",
        "        res = 0\n",
        "\n",
        "        if size == 1:\n",
        "            return nums[0]\n",
        "        if size == 2:\n",
        "            if (nums[0] + nums[1]) > nums[0]  and (nums[0] + nums[1]) > nums[1]:\n",
        "                return (nums[0] + nums[1])\n",
        "            else:\n",
        "                return nums[0] if nums[0] > nums[1] else nums[1]\n",
        "\n",
        "        #if size == 3:\n",
        "        for i in nums:\n",
        "            if i > max:\n",
        "                max = i\n",
        "        #print('max = ', max)\n",
        "        for i in range(size-1):\n",
        "            j = 0\n",
        "            k = 0\n",
        "            while(j < size):\n",
        "                j=k\n",
        "                res = 0\n",
        "                for _ in range(i+2):\n",
        "                    #print(j, end=' ')\n",
        "                    res = nums[j] + res\n",
        "                    #k=j\n",
        "                    #print('res = ', res)\n",
        "                    j = j + 1\n",
        "                if res > max:\n",
        "                    max = res\n",
        "                k = k + 1\n",
        "                #print()\n",
        "                #print('k=',k, 'j = ', j)\n",
        "        #print('max = ', max)\n",
        "        return max"
      ]
    },
    {
      "cell_type": "code",
      "source": [],
      "metadata": {
        "id": "I5OfugmGEMKQ"
      },
      "execution_count": null,
      "outputs": []
    }
  ]
}