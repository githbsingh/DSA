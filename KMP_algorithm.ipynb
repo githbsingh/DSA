{
  "nbformat": 4,
  "nbformat_minor": 0,
  "metadata": {
    "colab": {
      "provenance": [],
      "authorship_tag": "ABX9TyMtW1tQZ9PtwkPT7hMUL6En",
      "include_colab_link": true
    },
    "kernelspec": {
      "name": "python3",
      "display_name": "Python 3"
    },
    "language_info": {
      "name": "python"
    }
  },
  "cells": [
    {
      "cell_type": "markdown",
      "metadata": {
        "id": "view-in-github",
        "colab_type": "text"
      },
      "source": [
        "<a href=\"https://colab.research.google.com/github/githbsingh/DSA/blob/main/KMP_algorithm.ipynb\" target=\"_parent\"><img src=\"https://colab.research.google.com/assets/colab-badge.svg\" alt=\"Open In Colab\"/></a>"
      ]
    },
    {
      "cell_type": "code",
      "execution_count": null,
      "metadata": {
        "colab": {
          "base_uri": "https://localhost:8080/"
        },
        "id": "Ma5ujullyS_V",
        "outputId": "183ec685-a065-4e81-8111-c28875623dc4"
      },
      "outputs": [
        {
          "output_type": "stream",
          "name": "stdout",
          "text": [
            "inside kmp_search\n",
            "[0, 0, 1, 2, 0]\n",
            "Pattern found at index 10\n"
          ]
        }
      ],
      "source": [
        "def compute_lps(pattern):\n",
        "    lps = [0] * len(pattern)\n",
        "    length = 0\n",
        "    i = 1\n",
        "\n",
        "    while i < len(pattern):\n",
        "        if pattern[i] == pattern[length]:\n",
        "            length += 1\n",
        "            lps[i] = length\n",
        "            i += 1\n",
        "        else:\n",
        "            if length != 0:\n",
        "                length = lps[length-1]\n",
        "            else:\n",
        "                lps[i] = 0\n",
        "                i += 1\n",
        "    return lps\n",
        "\n",
        "def kmp_search(text, pattern):\n",
        "    print(\"inside kmp_search\")\n",
        "    lps = compute_lps(pattern)\n",
        "    print(lps)\n",
        "    i = j = 0\n",
        "\n",
        "    while i < len(text):\n",
        "        if pattern[j] == text[i]:\n",
        "            i += 1\n",
        "            j += 1\n",
        "        if j == len(pattern):\n",
        "            print(\"Pattern found at index\", i - j)\n",
        "            j = lps[j - 1]\n",
        "        elif i < len(text) and pattern[j] != text[i]:\n",
        "            if j != 0:\n",
        "                j = lps[j - 1]\n",
        "            else:\n",
        "                i += 1\n",
        "\n",
        "# Example\n",
        "#kmp_search(\"ababcababcabc\", \"ababc\")\n",
        "kmp_search(\"ababcabcabababd\", \"ababd\")\n",
        "\n",
        "\n",
        "\n"
      ]
    },
    {
      "cell_type": "code",
      "source": [
        "lps = [0]*len('ababc')\n",
        "print(len(lps))"
      ],
      "metadata": {
        "colab": {
          "base_uri": "https://localhost:8080/"
        },
        "id": "EnPP6zXFycXC",
        "outputId": "ff6afaf3-6c9c-469d-e40b-3071cdaaf3d4"
      },
      "execution_count": null,
      "outputs": [
        {
          "output_type": "stream",
          "name": "stdout",
          "text": [
            "5\n"
          ]
        }
      ]
    },
    {
      "cell_type": "markdown",
      "source": [],
      "metadata": {
        "id": "sfFhaTqCGUPj"
      }
    },
    {
      "cell_type": "code",
      "source": [],
      "metadata": {
        "id": "JEX3htrTGG3J"
      },
      "execution_count": null,
      "outputs": []
    }
  ]
}