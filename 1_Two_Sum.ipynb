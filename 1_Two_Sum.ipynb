{
  "nbformat": 4,
  "nbformat_minor": 0,
  "metadata": {
    "colab": {
      "provenance": [],
      "authorship_tag": "ABX9TyPF12TVNqbL5xR4qxG8mo1l",
      "include_colab_link": true
    },
    "kernelspec": {
      "name": "python3",
      "display_name": "Python 3"
    },
    "language_info": {
      "name": "python"
    }
  },
  "cells": [
    {
      "cell_type": "markdown",
      "metadata": {
        "id": "view-in-github",
        "colab_type": "text"
      },
      "source": [
        "<a href=\"https://colab.research.google.com/github/githbsingh/DSA/blob/main/1_Two_Sum.ipynb\" target=\"_parent\"><img src=\"https://colab.research.google.com/assets/colab-badge.svg\" alt=\"Open In Colab\"/></a>"
      ]
    },
    {
      "cell_type": "code",
      "execution_count": null,
      "metadata": {
        "id": "grwsh3T4TzcH"
      },
      "outputs": [],
      "source": [
        "class Solution:\n",
        "    def twoSum(self, nums: List[int], target: int) -> List[int]:\n",
        "        # One Way\n",
        "        size = len(nums)\n",
        "        #j = 2\n",
        "\n",
        "        #for i in range(size):\n",
        "        #    for j in range(i+1,size):\n",
        "        #        if nums[i] + nums[j] == target:\n",
        "        #            return i,j\n",
        "\n",
        "        # Second Way\n",
        "        # nums = sorted(nums)\n",
        "        # left, right = 0, len(nums) - 1\n",
        "        # while left < right:\n",
        "        #     current_sum = nums[left] + nums[right]\n",
        "        #     print(current_sum)\n",
        "        #     if current_sum == target:\n",
        "        #         return left, right\n",
        "        #     else:\n",
        "        #         if current_sum < target:\n",
        "        #             left += 1\n",
        "        #         else:\n",
        "        #             right -=1\n",
        "\n",
        "        # Third Way\n",
        "\n",
        "        hashmap = {}\n",
        "        for i, num in enumerate(nums):\n",
        "            complement = target - num\n",
        "            if complement in hashmap:\n",
        "                return hashmap[complement], i\n",
        "            else:\n",
        "                hashmap[num] = i\n",
        "            #print(hashmap)"
      ]
    }
  ]
}