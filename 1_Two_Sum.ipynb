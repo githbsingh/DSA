{
  "nbformat": 4,
  "nbformat_minor": 0,
  "metadata": {
    "colab": {
      "provenance": [],
      "authorship_tag": "ABX9TyNCWeasb2V6ZLtYxn6ZtkxX",
      "include_colab_link": true
    },
    "kernelspec": {
      "name": "python3",
      "display_name": "Python 3"
    },
    "language_info": {
      "name": "python"
    }
  },
  "cells": [
    {
      "cell_type": "markdown",
      "metadata": {
        "id": "view-in-github",
        "colab_type": "text"
      },
      "source": [
        "<a href=\"https://colab.research.google.com/github/githbsingh/DSA/blob/main/1_Two_Sum.ipynb\" target=\"_parent\"><img src=\"https://colab.research.google.com/assets/colab-badge.svg\" alt=\"Open In Colab\"/></a>"
      ]
    },
    {
      "cell_type": "markdown",
      "source": [
        "#### Q. 1. Two Sum"
      ],
      "metadata": {
        "id": "hXEg8Aw41Vss"
      }
    },
    {
      "cell_type": "code",
      "source": [
        "class Solution:\n",
        "    def twoSum(self, nums: List[int], target: int) -> List[int]:\n",
        "        size = len(nums)\n",
        "        #j = 2\n",
        "\n",
        "        for i in range(size):\n",
        "            for j in range(i+1,size):\n",
        "                if nums[i] + nums[j] == target:\n",
        "                    return i,j\n",
        ""
      ],
      "metadata": {
        "id": "WFahibck1f4O"
      },
      "execution_count": null,
      "outputs": []
    }
  ]
}