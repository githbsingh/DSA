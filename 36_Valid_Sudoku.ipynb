{
  "nbformat": 4,
  "nbformat_minor": 0,
  "metadata": {
    "colab": {
      "provenance": [],
      "authorship_tag": "ABX9TyOVnMAPi0WT0/wD8xYMV5iq",
      "include_colab_link": true
    },
    "kernelspec": {
      "name": "python3",
      "display_name": "Python 3"
    },
    "language_info": {
      "name": "python"
    }
  },
  "cells": [
    {
      "cell_type": "markdown",
      "metadata": {
        "id": "view-in-github",
        "colab_type": "text"
      },
      "source": [
        "<a href=\"https://colab.research.google.com/github/githbsingh/DSA/blob/main/36_Valid_Sudoku.ipynb\" target=\"_parent\"><img src=\"https://colab.research.google.com/assets/colab-badge.svg\" alt=\"Open In Colab\"/></a>"
      ]
    },
    {
      "cell_type": "code",
      "execution_count": null,
      "metadata": {
        "id": "DQH-n0O_Ug6I"
      },
      "outputs": [],
      "source": [
        "class Solution:\n",
        "    def isValidSudoku(self, board: List[List[str]]) -> bool:\n",
        "        valid = True\n",
        "        for i in range(len(board)):\n",
        "            sudoku = {}\n",
        "            for j in range(len(board)):\n",
        "                if board[i][j] != '.' :\n",
        "                    if board[i][j] in sudoku:\n",
        "                        valid = False\n",
        "                    else:\n",
        "                        sudoku[board[i][j]] = 0\n",
        "\n",
        "        for i in range(len(board)):\n",
        "            sudoku = {}\n",
        "            for j in range(len(board)):\n",
        "                if board[j][i] != '.' :\n",
        "                    if board[j][i] in sudoku:\n",
        "                        valid = False\n",
        "                    else:\n",
        "                        sudoku[board[j][i]] = 0\n",
        "\n",
        "        return valid"
      ]
    }
  ]
}