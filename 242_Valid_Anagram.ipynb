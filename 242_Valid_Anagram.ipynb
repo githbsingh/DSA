{
  "nbformat": 4,
  "nbformat_minor": 0,
  "metadata": {
    "colab": {
      "provenance": [],
      "authorship_tag": "ABX9TyOfDAgiMmrH8NzFyRfadAox",
      "include_colab_link": true
    },
    "kernelspec": {
      "name": "python3",
      "display_name": "Python 3"
    },
    "language_info": {
      "name": "python"
    }
  },
  "cells": [
    {
      "cell_type": "markdown",
      "metadata": {
        "id": "view-in-github",
        "colab_type": "text"
      },
      "source": [
        "<a href=\"https://colab.research.google.com/github/githbsingh/DSA/blob/main/242_Valid_Anagram.ipynb\" target=\"_parent\"><img src=\"https://colab.research.google.com/assets/colab-badge.svg\" alt=\"Open In Colab\"/></a>"
      ]
    },
    {
      "cell_type": "code",
      "execution_count": null,
      "metadata": {
        "id": "rqqEUbVHo18u"
      },
      "outputs": [],
      "source": [
        "class Solution:\n",
        "    def isAnagram(self, s: str, t: str) -> bool:\n",
        "        s_dict = {}\n",
        "        t_dict = {}\n",
        "\n",
        "        for i in s:\n",
        "            if i in s_dict:\n",
        "                s_dict[i] = s_dict[i] + 1\n",
        "            else:\n",
        "                s_dict[i] = 1\n",
        "\n",
        "        for i in t:\n",
        "            if i in t_dict:\n",
        "                t_dict[i] = t_dict[i] + 1\n",
        "            else:\n",
        "                t_dict[i] = 1\n",
        "\n",
        "        return (s_dict == t_dict)"
      ]
    }
  ]
}